{
 "cells": [
  {
   "cell_type": "code",
   "execution_count": null,
   "id": "346286b5",
   "metadata": {},
   "outputs": [],
   "source": [
    "import pandas as pd\n",
    "import altair as alt\n",
    "import geopandas as gpd"
   ]
  },
  {
   "cell_type": "code",
   "execution_count": null,
   "id": "29f135e8",
   "metadata": {},
   "outputs": [],
   "source": [
    "world = gpd.read_file('world-countries.json')\n",
    "df = pd.read_csv('population_prospects.csv')"
   ]
  },
  {
   "cell_type": "code",
   "execution_count": null,
   "id": "564cc75d",
   "metadata": {},
   "outputs": [],
   "source": [
    "df_2000 = df[(df['variant']=='Estimates') & (df['year']==2000)]\n",
    "df_2100 = df[(df['variant']=='Medium variant') & (df['year']==2100)]\n",
    "df_2100.columns = ['variant', 'country', 'country_code', 'parent_code', 'year','estimated_population']\n"
   ]
  },
  {
   "cell_type": "code",
   "execution_count": null,
   "id": "278c39a6",
   "metadata": {},
   "outputs": [],
   "source": [
    "df_with_estimated = df_2000.copy()\n",
    "df_with_estimated = df_with_estimated.merge(df_2100[[\"country_code\", \"estimated_population\"]], on= \"country_code\")\n",
    "df_with_estimated.loc[df_with_estimated[\"country\"] == \"Russian Federation\", \"country\"] = \"Russia\""
   ]
  },
  {
   "cell_type": "code",
   "execution_count": null,
   "id": "fc5a0bde",
   "metadata": {},
   "outputs": [],
   "source": [
    "df_with_estimated.loc[:, 'difference_word'] = ''\n",
    "\n",
    "df_with_estimated.loc[:, 'difference'] = ''\n",
    "\n",
    "df_with_estimated['population'] = df_with_estimated.apply(lambda x: round(x['population']), axis=1)\n",
    "df_with_estimated['estimated_population'] = df_with_estimated.apply(lambda x: round(x['estimated_population']), axis=1)\n",
    "\n",
    "df_with_estimated['difference_word'] = df_with_estimated.apply(lambda x: 'more' if x['estimated_population']-x['population'] > 0 else 'less', axis=1)\n",
    "\n",
    "df_with_estimated['difference'] = df_with_estimated.apply(lambda x: x['estimated_population']-x['population'], axis=1)\n",
    "\n"
   ]
  },
  {
   "cell_type": "markdown",
   "id": "36155a40",
   "metadata": {},
   "source": [
    "**- В яких країнах світу населення у 2100 році буде більшим, ніж було у 2000 році, а в яких меншим?**\n",
    "Для цього питання я вирішила зробити просту візуалізацію та закодувати кольором лише три значення - населення виросте, населення зменшиться або населення не зміниться - та помітити на карті країни відповідними кольорами. Мінус такої візуалізації що вона взагалі ніяк не розказує нам на скільки зміниться населення. Для цього я зробила тултіп, що при наведенні на країну відповідно з'являється її назва та кількісна зміна в населенні."
   ]
  },
  {
   "cell_type": "code",
   "execution_count": null,
   "id": "d5848bfc",
   "metadata": {},
   "outputs": [],
   "source": [
    "alt.Chart(world).transform_lookup(\n",
    "    lookup = 'name',\n",
    "    from_ = alt.LookupData(data = df_with_estimated, \n",
    "                           key = 'country',\n",
    "                           fields=['difference_word', 'country', 'difference']),\n",
    "    default = 'null'\n",
    ").project(type = 'equalEarth'\n",
    ").mark_geoshape().encode(\n",
    "    color = alt.Color('difference_word:N'),\n",
    "    tooltip = [\n",
    "        alt.Tooltip('country:N'),\n",
    "        alt.Tooltip('difference:N')\n",
    "    ]\n",
    ").properties(width = 950, height = 500, background = '#F9F9F9', padding = 25)"
   ]
  },
  {
   "cell_type": "code",
   "execution_count": null,
   "id": "0be3d9e7",
   "metadata": {},
   "outputs": [],
   "source": [
    "df_with_estimated.loc[:, 'difference_percentage'] = ''\n",
    "df_with_estimated['difference_percentage'] = df_with_estimated.apply(lambda x: \n",
    "                                                        round(100*(x['estimated_population']-x['population'])/x['population']), axis=1)\n"
   ]
  },
  {
   "cell_type": "markdown",
   "id": "2e48f638",
   "metadata": {},
   "source": [
    "**- На скільки відсотків збільшиться або зменшиться населення кожної країни у 2100 році у порівнянні з 2000 роком?**\n",
    "Для цієї візуалізації я вибрала кольорову схему turbo через те що в ній багато контрастних кольорів, що дозволяє дуже швидко зрозуміти в яких країнах як зміниться населення - одразу видно що в Африці населення дуже виросте. Недолік такої візуалізації в тому, що різниця між -50 та +50 відсотків населення не дуже помітна і розділити такі країни візуально доволі складно. "
   ]
  },
  {
   "cell_type": "code",
   "execution_count": null,
   "id": "1ceeb880",
   "metadata": {},
   "outputs": [],
   "source": [
    "alt.Chart(world).transform_lookup(\n",
    "    lookup = 'name',\n",
    "    from_ = alt.LookupData(data = df_with_estimated, \n",
    "                           key = 'country',\n",
    "                           fields=['difference_percentage', 'country']),\n",
    "    default = 'null'\n",
    ").project(type = 'equalEarth'\n",
    ").mark_geoshape().encode(\n",
    "    color = alt.Color('difference_percentage:Q', scale = alt.Scale(scheme = 'turbo'), bin = alt.Bin(step = 50)),\n",
    "    tooltip = [\n",
    "        alt.Tooltip('country:N'),\n",
    "        alt.Tooltip('difference_percentage:N')\n",
    "    ]\n",
    ").properties(width = 950, height = 500, background = '#F9F9F9', padding = 25)"
   ]
  },
  {
   "cell_type": "markdown",
   "id": "e191dc9d",
   "metadata": {},
   "source": [
    "**- Яким буде населення країн світу у 2100 році?**\n",
    "Я вибрала такий самий графік та кольорову схему як у минулому питанні. Кольорова схема turbo містить в собі багато контрастних кольорів і гарно підходить для того щоб описувати великий інтервал чисел. Також на візуалізації є тултіпи - при наведенні на конкретну країну показується назва країни та прогноз кількості населення."
   ]
  },
  {
   "cell_type": "code",
   "execution_count": null,
   "id": "48f7979a",
   "metadata": {},
   "outputs": [],
   "source": [
    "alt.Chart(world).transform_lookup(\n",
    "    lookup = 'name',\n",
    "    from_ = alt.LookupData(data = df_with_estimated, \n",
    "                           key = 'country',\n",
    "                           fields=['estimated_population', 'country']),\n",
    "    default = 'null'\n",
    ").project(type = 'equalEarth'\n",
    ").mark_geoshape().encode(\n",
    "    color = alt.Color('estimated_population:Q', scale = alt.Scale(scheme = 'turbo'), bin = alt.Bin(step = 50)),\n",
    "    tooltip = [\n",
    "        alt.Tooltip('country:N'),\n",
    "        alt.Tooltip('estimated_population:N')\n",
    "    ]\n",
    ").properties(width = 950, height = 500, background = '#F9F9F9', padding = 25)"
   ]
  },
  {
   "cell_type": "code",
   "execution_count": null,
   "id": "718387df",
   "metadata": {},
   "outputs": [],
   "source": []
  }
 ],
 "metadata": {
  "kernelspec": {
   "display_name": "Python 3 (ipykernel)",
   "language": "python",
   "name": "python3"
  },
  "language_info": {
   "codemirror_mode": {
    "name": "ipython",
    "version": 3
   },
   "file_extension": ".py",
   "mimetype": "text/x-python",
   "name": "python",
   "nbconvert_exporter": "python",
   "pygments_lexer": "ipython3",
   "version": "3.7.11"
  }
 },
 "nbformat": 4,
 "nbformat_minor": 5
}
